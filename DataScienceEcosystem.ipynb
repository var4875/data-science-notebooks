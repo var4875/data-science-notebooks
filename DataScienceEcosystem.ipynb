{
  "metadata": {
    "kernelspec": {
      "name": "python",
      "display_name": "Python (Pyodide)",
      "language": "python"
    },
    "language_info": {
      "codemirror_mode": {
        "name": "python",
        "version": 3
      },
      "file_extension": ".py",
      "mimetype": "text/x-python",
      "name": "python",
      "nbconvert_exporter": "python",
      "pygments_lexer": "ipython3",
      "version": "3.8"
    }
  },
  "nbformat_minor": 5,
  "nbformat": 4,
  "cells": [
    {
      "id": "01ba61b6-1145-4ef9-8c98-d64e7599e3b3",
      "cell_type": "markdown",
      "source": "# Data Science Tools and Ecosystem",
      "metadata": {}
    },
    {
      "id": "31164450-a19d-47ff-9e68-c4bb00d49a6e",
      "cell_type": "markdown",
      "source": "# In this notebook, Data Science Tools and Ecosystem are summarized.",
      "metadata": {}
    },
    {
      "id": "2a7b8fa1-284b-4f04-96f2-dc08da22e1db",
      "cell_type": "markdown",
      "source": "## Objectives:\n* List popular languages for Data Science\n* List popular commonly used libraries for Data Science\n* List of Data Science tools",
      "metadata": {}
    },
    {
      "id": "cf3beabd-89d8-429b-991d-0972b618e8be",
      "cell_type": "markdown",
      "source": "# Some of the popular languages that Data Scientists use are:",
      "metadata": {}
    },
    {
      "id": "798930e0-579b-4ed8-975b-4d5d430b4c17",
      "cell_type": "markdown",
      "source": "1. Python\n2. R\n3. SQL",
      "metadata": {}
    },
    {
      "id": "44b79d5b-95a8-4197-a2bd-cb6ca2f4d36e",
      "cell_type": "markdown",
      "source": "# Some of the commonly used libraries used by Data Scientists include:",
      "metadata": {}
    },
    {
      "id": "fc3b5f94-483f-44e6-8039-be9c5760c5bb",
      "cell_type": "markdown",
      "source": "1. Pandas\n2. NumPy\n3. Scikit-Learn",
      "metadata": {}
    },
    {
      "id": "6bfcb9a0-5f97-4b92-92e5-8076061e10da",
      "cell_type": "markdown",
      "source": "| Data Science Tools     |\n|------------------------|\n| Jupyter Notebook       |\n| Apache Spark           |\n| TensorFlow             |",
      "metadata": {}
    },
    {
      "id": "a577efc2-11de-4bd0-8009-00ed4ffcc15e",
      "cell_type": "markdown",
      "source": "### Below are a few examples of evaluating arithmetic expressions in Python.",
      "metadata": {}
    },
    {
      "id": "3d71ecd0-39ff-47e3-bede-21cc0914f54e",
      "cell_type": "code",
      "source": "(3*4)+5 # This a simple arithmetic expression to mutiply then add integers.",
      "metadata": {
        "trusted": true
      },
      "outputs": [
        {
          "execution_count": 4,
          "output_type": "execute_result",
          "data": {
            "text/plain": "17"
          },
          "metadata": {}
        }
      ],
      "execution_count": 4
    },
    {
      "id": "e52599f4-0062-4836-bb7c-e37715aeb2b3",
      "cell_type": "code",
      "source": "200/60 # This will convert 200 minutes to hours by diving by 60",
      "metadata": {
        "trusted": true
      },
      "outputs": [
        {
          "execution_count": 6,
          "output_type": "execute_result",
          "data": {
            "text/plain": "3.3333333333333335"
          },
          "metadata": {}
        }
      ],
      "execution_count": 6
    },
    {
      "id": "bf37a58c-8fbd-4107-8cb0-0928e941c9d8",
      "cell_type": "markdown",
      "source": "## Author",
      "metadata": {}
    },
    {
      "id": "9c525aac-74d9-4dce-8347-e01ada853730",
      "cell_type": "markdown",
      "source": "Varinlada Lotrakool",
      "metadata": {}
    }
  ]
}